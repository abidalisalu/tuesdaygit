{
 "cells": [
  {
   "cell_type": "markdown",
   "id": "a30ba630",
   "metadata": {},
   "source": [
    "# Python ka chilla with baba aamar\n",
    "## How to use jupyter notebook\n",
    "### Basics of python\n",
    "**01- My first programme**\n"
   ]
  },
  {
   "cell_type": "code",
   "execution_count": null,
   "id": "eac04ae9",
   "metadata": {
    "scrolled": false
   },
   "outputs": [],
   "source": [
    "\n",
    "print(2+3)\n",
    "print(\"hello world on output\")\n",
    "print(\"we are learning python with aamar\")"
   ]
  },
  {
   "cell_type": "markdown",
   "id": "e6e5d2cd",
   "metadata": {},
   "source": [
    "**02- operators**"
   ]
  },
  {
   "cell_type": "code",
   "execution_count": null,
   "id": "45e73361",
   "metadata": {
    "scrolled": true
   },
   "outputs": [],
   "source": [
    "print(2+3)\n",
    "print(4-1)\n",
    "print(3*4)\n",
    "print(9/3)\n",
    "print(13%2)\n",
    "print(9//3)\n",
    "print(3**2)\n",
    "\n",
    "print(3**4/3*4/3+5-4)\n",
    "\n"
   ]
  },
  {
   "cell_type": "markdown",
   "id": "060754e8",
   "metadata": {},
   "source": [
    " **pemadas\n",
    " parenthesis, exponent,multiplication, divide, addition, subtraction\n",
    " it work left to right M D and A S **"
   ]
  },
  {
   "cell_type": "markdown",
   "id": "3fbc96da",
   "metadata": {},
   "source": [
    "**03- strings**"
   ]
  },
  {
   "cell_type": "code",
   "execution_count": null,
   "id": "4bbb651a",
   "metadata": {},
   "outputs": [],
   "source": [
    "print(\"Hello world on output\")\n",
    "print(\"we are learning python with aamar  \")\n",
    "\n",
    "print('test for single quote')\n",
    "print(\"Test for double quote\")\n",
    "print(''' test for triple quote''')\n",
    "\n",
    "print(\"what's up   ?\")\n",
    "print(\"i am wasim anjum\")\n",
    "\n",
    "# agr python interpretor nhi a raha to ctrl+shift+p press karay or select interpreter choose karary"
   ]
  },
  {
   "cell_type": "markdown",
   "id": "1f7df93d",
   "metadata": {},
   "source": [
    "**04- comments**"
   ]
  },
  {
   "cell_type": "code",
   "execution_count": null,
   "id": "513630a9",
   "metadata": {},
   "outputs": [],
   "source": [
    "print(\" hello world on output\")  #press left ctrl +/ to comment out \n",
    "print(\"we are learning python with aamar\") # print a string\n",
    "print(2+3) # print opeartor functions wwith numbers\n"
   ]
  },
  {
   "cell_type": "markdown",
   "id": "67beb8eb",
   "metadata": {},
   "source": [
    "**05- variables**"
   ]
  },
  {
   "cell_type": "code",
   "execution_count": null,
   "id": "fb4ff61c",
   "metadata": {},
   "outputs": [],
   "source": [
    "# # variables: objects containing specific values\n",
    "# from tkinter import Variable\n",
    "\n",
    "\n",
    "x=5\n",
    "print(x)\n",
    "y=\"we are learning python with aamar\"\n",
    "print(y)\n",
    "X=15\n",
    "print(X) # upto down write ho ga\n",
    "x=x+10\n",
    "\n",
    "\n",
    "# # types of variables or class of variables\n",
    "type(x)\n",
    "print(type(x))\n",
    "type(y)\n",
    "print(type(y))\n",
    "\n",
    "# Rules to assign a Variable\n",
    "#1 the variable should contain letter, nuumber or underscore in python\n",
    "# 2 do not start with number mean 2y\n",
    "# 3 spaces are not allowed\n",
    "# 4 do not use keyword in python function (break, mean,, median, test etc)\n",
    "# 5 variable name is shot and descriptive \n",
    "# 6 variable is case sensitive (lowercase upper case letters) use lowercase letter is best\n",
    "\n",
    "fruit_basket= 8\n",
    "# del fruit_basket ye vala function karnay peeshla variable delet ho jy ga or terminal ma show ni ho ga\n",
    "\n",
    "\n",
    "fruit_basket=\"mangoes\"\n",
    "\n",
    "print(fruit_basket)\n",
    "print(type(fruit_basket))\n"
   ]
  },
  {
   "cell_type": "markdown",
   "id": "3ead235a",
   "metadata": {},
   "source": [
    "**06- input_variables**"
   ]
  },
  {
   "cell_type": "code",
   "execution_count": null,
   "id": "48666cff",
   "metadata": {},
   "outputs": [],
   "source": [
    "fruit_basket=\"mangoes\"\n",
    "print(fruit_basket)\n",
    "\n",
    "#  input fuction \n",
    "fruit_basket=input(\"what is your favourite fruit  ?\")\n",
    "print(fruit_basket)\n",
    "\n",
    "# input function of 2nd stage variable\n",
    "name=input(\"what is your name  ?\")\n",
    "greetings=\"hello\"\n",
    "print(greetings, name)\n",
    "\n",
    "#  another way of stage 2 input function \n",
    "name=input(\"what is your name  ?\")\n",
    "print(\"hello\", name)\n",
    "\n",
    "#  3RD STAGE OF INPUT FUNCTION \n",
    "name=input(\"what is your name  ?\")\n",
    "age=input(\"how old are you  ?\")\n",
    "greetings=\"hello\"\n",
    "print(greetings,name,\"you are still young\")"
   ]
  },
  {
   "cell_type": "markdown",
   "id": "feb5ab47",
   "metadata": {},
   "source": [
    "**07- conditional logics**"
   ]
  },
  {
   "cell_type": "code",
   "execution_count": null,
   "id": "cf0bbeaf",
   "metadata": {},
   "outputs": [],
   "source": [
    "#  logical operator are true or false, yes or no, 0 or 1\n",
    "# equal to              ==\n",
    "# not equal to          !=\n",
    "# less than             <\n",
    "# greater than           >\n",
    "# less than and equal to <=\n",
    "# greater than and eual to >=\n",
    "\n",
    "\n",
    "\n",
    "\n",
    "# #  4 equal to 4\n",
    "print(4==4)  \n",
    "print(4!=4)\n",
    "# #  logical opeartors\n",
    "print(4<5)\n",
    "print(4>5)\n",
    "print(4<=5)\n",
    "print(6>=4)\n",
    "\n",
    "# #  application of logical operators\n",
    "# #  hammad na schol jana hai us ki age 4 sall hai lakin school valay khty kk vo 5 saal vala bacha la ga \n",
    "hammad_age=4\n",
    "age_at_school=5\n",
    "print(hammad_age==age_at_school)\n",
    "\n",
    "\n",
    "#  input function and logical operators\n",
    "age_at_school=5\n",
    "hammad_age=input(\"how old is hammad    ?\") # input function\n",
    "\n",
    "hammad_age=int(hammad_age)\n",
    "print(type(hammad_age))\n",
    "print(hammad_age==age_at_school)   #logical operator\n",
    "\n"
   ]
  },
  {
   "cell_type": "markdown",
   "id": "47084b63",
   "metadata": {},
   "source": [
    "**08- types of conversion**"
   ]
  },
  {
   "cell_type": "code",
   "execution_count": null,
   "id": "c7831e52",
   "metadata": {},
   "outputs": [],
   "source": [
    "x=10\n",
    "y=10.2\n",
    "z=\"hello\"  #string\n",
    "print(type(x))\n",
    "print(type(y))\n",
    "print(type(z))\n",
    "x=x*y\n",
    "print(type(x))\n",
    "\n",
    "# # implicit type conversion\n",
    "x=x+y\n",
    "print(x,\"type of x :\", type(x))\n",
    "\n",
    "# explicit type conversion\n",
    "age= input(\"what is your age  ?\")\n",
    "print(type(age))   # yaha pr age ki class string a re hai  lakin age ki type int ani chahye is liy neechay phr new likha hai\n",
    "# # or \n",
    "age=input(\"what is your age   ?\")\n",
    "age=int(age)\n",
    "print(type(age))\n",
    "# # or\n",
    "age=input(\"what is your age    ?\")\n",
    "print(age, type(int(age)))\n",
    "\n",
    "#  flaot k liay\n",
    "age=input('what is your age  ?')\n",
    "print(age,type(float(age)))\n",
    "#  to convert into string\n",
    "print(age,type(str(age)))\n",
    "\n",
    "# name\n",
    "name=input(\"what is your name   ?\")\n",
    "print(name,type(str(name)))"
   ]
  },
  {
   "cell_type": "markdown",
   "id": "e9697441",
   "metadata": {},
   "source": [
    "**09- if else elif**"
   ]
  },
  {
   "cell_type": "code",
   "execution_count": null,
   "id": "ef52bf4c",
   "metadata": {},
   "outputs": [],
   "source": [
    "required_age_at_school=5\n",
    "hammad_age=4\n",
    "if hammad_age==required_age_at_school:\n",
    "    print(\"hammad can join the school\") #terminal ma kush ni print ho ra ku k hamad ki age km hai \n",
    "required_age_at_school=5\n",
    "hammad_age=9\n",
    "if hammad_age==required_age_at_school:\n",
    "    print(\"hammad can join the school\")\n",
    "elif hammad_age > required_age_at_school:\n",
    "    print(\"hammad can join the higher secondary school\")\n",
    "elif hammad_age <=2:\n",
    "    print(\"you should take care of your baby\")\n",
    "\n",
    "else:\n",
    "    print(\"hammad cannot go to school\")\n"
   ]
  },
  {
   "cell_type": "markdown",
   "id": "0eca55fd",
   "metadata": {},
   "source": [
    "**10- functions**"
   ]
  },
  {
   "cell_type": "code",
   "execution_count": null,
   "id": "00f061c4",
   "metadata": {},
   "outputs": [],
   "source": [
    "print(\"we aress learning with aamar\")\n",
    "print(\"we are learning with aamar\")\n",
    "print(\"we are learning with aamar\")\n",
    "print(\"we are learning with aamar\")\n",
    "\n",
    "#defining a function\n",
    "#no 1\n",
    "def print_codanics():\n",
    "    print(\"we are learning python with aamar\")\n",
    "    print(\"we are learning python with aamar\")\n",
    "    print(\"we are learning python with aamar\")\n",
    "print_codanics()\n",
    "\n",
    "#2 \n",
    "def print_codanics():\n",
    "    text= \"we are learning python with aamar\"\n",
    "    print(text)\n",
    "    print(text)\n",
    "    print(text)\n",
    "print_codanics()\n",
    "# iskka ye faida hai k hm variabl ma change kray ga vo sb line ma change ho jy ga\n",
    "\n",
    "# 3\n",
    "def print_codanics(text):\n",
    "    print(text)\n",
    "    print(text)\n",
    "    print(text)\n",
    "print_codanics(\"we are learning python  bbb  with aamar\")\n",
    "\n",
    "\n",
    "# 4 defining a function with if, elif and else statement\n",
    "def school_calculator(age, text):\n",
    "    if age == 5:\n",
    "        print(\"hammad can join the school\")\n",
    "    elif age > 5: \n",
    "        print(\"hammad can join the higher seconadary school\")\n",
    "    else:\n",
    "        print(\"hammad is still a baby\")\n",
    "school_calculator(2, \"wasim\" )   # yaha hm age ko change kry to fifferernt ans ay gay   \n",
    "\n",
    "\n",
    "# agr hm function ma hammad name khtm kr day to kush nhi terminal ma ay ga isk liay hm ko degf valaly function ma sa text khtm krna ho ga phr print ho ga \n",
    "\n",
    "# defining a future function\n",
    "def future_age(age):\n",
    "    new_age=age+20\n",
    "    return new_age\n",
    "future_predicted_age= future_age(18)\n",
    "print(future_predicted_age)\n",
    "\n",
    "\n",
    "\n"
   ]
  },
  {
   "cell_type": "markdown",
   "id": "32a1caaf",
   "metadata": {},
   "source": [
    "**11- loops**"
   ]
  },
  {
   "cell_type": "code",
   "execution_count": null,
   "id": "bbdc328c",
   "metadata": {},
   "outputs": [],
   "source": [
    "# two types while loops and for loops\n",
    "# while loops ma hm koi bhi cheez define kr saktay hai\n",
    "\n",
    "#while loops\n",
    "x=0\n",
    "while(x<5):\n",
    "    print(x)\n",
    "    x=x+1 \n",
    "\n",
    "# for loops\n",
    "for x in range (5,10):\n",
    "    print(x)\n",
    "\n",
    "#array, it mean dat set\n",
    "days= [\"monday\", \"tuesday\",\"wednesday\",\"thursday\",\"friday\",\"saturday\", \"sunday\"]\n",
    "for d in days:\n",
    "    print(d)\n",
    "# or agr hm na koi loop break krni hai\n",
    "days= [\"monday\", \"tuesday\",\"wednesday\",\"thursday\",\"friday\",\"saturday\", \"sunday\"]\n",
    "for d in days:\n",
    "    if (d==\"friday\"):break\n",
    "    print(d)\n",
    "#  or \n",
    "days= [\"monday\", \"tuesday\",\"wednesday\",\"thursday\",\"friday\",\"saturday\", \"sunday\"]\n",
    "for d in days:\n",
    "    if (d==\"friday\"):continue  # in this function freday is skipped\n",
    "    print(d)\n",
    "\n"
   ]
  },
  {
   "cell_type": "markdown",
   "id": "82b82e50",
   "metadata": {},
   "source": [
    "**12- import libraries**"
   ]
  },
  {
   "cell_type": "code",
   "execution_count": null,
   "id": "ac29a44f",
   "metadata": {},
   "outputs": [],
   "source": [
    "# # if you want to print the value of pi \n",
    "import math\n",
    "print(\"The value of pi is\", math.pi)\n",
    "\n",
    "# statistics\n",
    "import statistics\n",
    "x=[150, 250, 350, 450]\n",
    "print(statistics.mean (x))\n",
    "#statistics. # bht saray function open ho jy ga stat k \n",
    "\n",
    "#imp libraries\n",
    "#numpy, pandas"
   ]
  },
  {
   "cell_type": "markdown",
   "id": "3d5463e2",
   "metadata": {},
   "source": [
    "**13- trouble shooting**"
   ]
  },
  {
   "cell_type": "code",
   "execution_count": null,
   "id": "b322a6bf",
   "metadata": {},
   "outputs": [],
   "source": [
    "print(\"we are learning python with aamar\")  # yha agr hm qqqquotation na da to syntax error ata hai\n",
    "\n",
    "print(25/0)  # runtime error math ma ata hai\n",
    "\n",
    "name=\"aamar\"\n",
    "print(\"hello\", name)\n",
    "# agr hm comma ki jga +lga da to space khtm ho jy gi\n",
    "name=\"aamar\"\n",
    "print(\"hello\"+ name)\n"
   ]
  },
  {
   "cell_type": "code",
   "execution_count": null,
   "id": "e263e095",
   "metadata": {},
   "outputs": [],
   "source": [
    "# how to install libarries in vsc jupyter\n",
    "pip install seaborn"
   ]
  },
  {
   "cell_type": "code",
   "execution_count": null,
   "id": "4cd1465c",
   "metadata": {},
   "outputs": [],
   "source": [
    "pip install seaborn"
   ]
  }
 ],
 "metadata": {
  "interpreter": {
   "hash": "6a7453f1b33d31eb0b39cf81e251db5396bbd3c2aa9ec31f858f2d2ae23642cb"
  },
  "kernelspec": {
   "display_name": "Python 3.10.1 64-bit",
   "language": "python",
   "name": "python3"
  },
  "language_info": {
   "codemirror_mode": {
    "name": "ipython",
    "version": 3
   },
   "file_extension": ".py",
   "mimetype": "text/x-python",
   "name": "python",
   "nbconvert_exporter": "python",
   "pygments_lexer": "ipython3",
   "version": "3.10.1"
  }
 },
 "nbformat": 4,
 "nbformat_minor": 5
}
