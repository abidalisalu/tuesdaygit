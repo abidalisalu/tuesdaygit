{
 "cells": [
  {
   "cell_type": "markdown",
   "id": "fc97551d",
   "metadata": {},
   "source": [
    "# - Make a string"
   ]
  },
  {
   "cell_type": "code",
   "execution_count": 1,
   "id": "5b819205",
   "metadata": {},
   "outputs": [
    {
     "data": {
      "text/plain": [
       "'Samosa Pakora'"
      ]
     },
     "execution_count": 1,
     "metadata": {},
     "output_type": "execute_result"
    }
   ],
   "source": [
    "a= \"Samosa Pakora\"\n",
    "a"
   ]
  },
  {
   "cell_type": "code",
   "execution_count": 2,
   "id": "2bf3a187",
   "metadata": {},
   "outputs": [
    {
     "data": {
      "text/plain": [
       "'Samosa Pakora'"
      ]
     },
     "execution_count": 2,
     "metadata": {},
     "output_type": "execute_result"
    }
   ],
   "source": [
    "a"
   ]
  },
  {
   "cell_type": "markdown",
   "id": "857f283c",
   "metadata": {},
   "source": [
    "# Length of indeces"
   ]
  },
  {
   "cell_type": "code",
   "execution_count": 8,
   "id": "16172f6d",
   "metadata": {},
   "outputs": [
    {
     "data": {
      "text/plain": [
       "13"
      ]
     },
     "execution_count": 8,
     "metadata": {},
     "output_type": "execute_result"
    }
   ],
   "source": [
    "len(a)"
   ]
  },
  {
   "cell_type": "code",
   "execution_count": 11,
   "id": "26ec47a9",
   "metadata": {},
   "outputs": [
    {
     "data": {
      "text/plain": [
       "[13]"
      ]
     },
     "execution_count": 11,
     "metadata": {},
     "output_type": "execute_result"
    }
   ],
   "source": [
    "[13]"
   ]
  },
  {
   "cell_type": "code",
   "execution_count": 3,
   "id": "5e9630e0",
   "metadata": {},
   "outputs": [
    {
     "data": {
      "text/plain": [
       "'S'"
      ]
     },
     "execution_count": 3,
     "metadata": {},
     "output_type": "execute_result"
    }
   ],
   "source": [
    "a[0]"
   ]
  },
  {
   "cell_type": "code",
   "execution_count": 4,
   "id": "86c35a79",
   "metadata": {},
   "outputs": [
    {
     "data": {
      "text/plain": [
       "'o'"
      ]
     },
     "execution_count": 4,
     "metadata": {},
     "output_type": "execute_result"
    }
   ],
   "source": [
    "a[3]"
   ]
  },
  {
   "cell_type": "code",
   "execution_count": 5,
   "id": "8762e565",
   "metadata": {},
   "outputs": [
    {
     "data": {
      "text/plain": [
       "' '"
      ]
     },
     "execution_count": 5,
     "metadata": {},
     "output_type": "execute_result"
    }
   ],
   "source": [
    "a[6]"
   ]
  },
  {
   "cell_type": "code",
   "execution_count": 6,
   "id": "231f8035",
   "metadata": {},
   "outputs": [
    {
     "data": {
      "text/plain": [
       "'a'"
      ]
     },
     "execution_count": 6,
     "metadata": {},
     "output_type": "execute_result"
    }
   ],
   "source": [
    "a[5]"
   ]
  },
  {
   "cell_type": "code",
   "execution_count": 7,
   "id": "1d255083",
   "metadata": {},
   "outputs": [
    {
     "data": {
      "text/plain": [
       "'P'"
      ]
     },
     "execution_count": 7,
     "metadata": {},
     "output_type": "execute_result"
    }
   ],
   "source": [
    "a[7]"
   ]
  },
  {
   "cell_type": "code",
   "execution_count": 17,
   "id": "6879f0a9",
   "metadata": {},
   "outputs": [
    {
     "ename": "SyntaxError",
     "evalue": "invalid syntax (Temp/ipykernel_6520/4061161864.py, line 1)",
     "output_type": "error",
     "traceback": [
      "\u001b[1;36m  File \u001b[1;32m\"C:\\Users\\SoNiC\\AppData\\Local\\Temp/ipykernel_6520/4061161864.py\"\u001b[1;36m, line \u001b[1;32m1\u001b[0m\n\u001b[1;33m    a[13] ** yha error is liy hai ku k letter 13 hai hm us sa 1 letter km likhy ga ideces 0 sa start hoti hai**\u001b[0m\n\u001b[1;37m                 ^\u001b[0m\n\u001b[1;31mSyntaxError\u001b[0m\u001b[1;31m:\u001b[0m invalid syntax\n"
     ]
    }
   ],
   "source": [
    "a[13] ** yha error is liy hai ku k letter 13 hai hm us sa 1 letter km likhy ga ideces 0 sa start hoti hai**"
   ]
  },
  {
   "cell_type": "code",
   "execution_count": 15,
   "id": "d71acbfa",
   "metadata": {},
   "outputs": [
    {
     "data": {
      "text/plain": [
       "'Samosa P'"
      ]
     },
     "execution_count": 15,
     "metadata": {},
     "output_type": "execute_result"
    }
   ],
   "source": [
    "a[0:8]"
   ]
  },
  {
   "cell_type": "code",
   "execution_count": null,
   "id": "22ae9d96",
   "metadata": {},
   "outputs": [],
   "source": [
    "# last indeces is exclusive"
   ]
  },
  {
   "cell_type": "code",
   "execution_count": 18,
   "id": "d8ae40da",
   "metadata": {},
   "outputs": [
    {
     "data": {
      "text/plain": [
       "'Samosa'"
      ]
     },
     "execution_count": 18,
     "metadata": {},
     "output_type": "execute_result"
    }
   ],
   "source": [
    "a[0:6]"
   ]
  },
  {
   "cell_type": "code",
   "execution_count": 19,
   "id": "beed2eba",
   "metadata": {},
   "outputs": [
    {
     "data": {
      "text/plain": [
       "'a'"
      ]
     },
     "execution_count": 19,
     "metadata": {},
     "output_type": "execute_result"
    }
   ],
   "source": [
    "a[-1]"
   ]
  },
  {
   "cell_type": "code",
   "execution_count": 21,
   "id": "2997a832",
   "metadata": {},
   "outputs": [
    {
     "data": {
      "text/plain": [
       "'k'"
      ]
     },
     "execution_count": 21,
     "metadata": {},
     "output_type": "execute_result"
    }
   ],
   "source": [
    "a[-4]"
   ]
  },
  {
   "cell_type": "code",
   "execution_count": 22,
   "id": "c8299cb5",
   "metadata": {},
   "outputs": [
    {
     "data": {
      "text/plain": [
       "'P'"
      ]
     },
     "execution_count": 22,
     "metadata": {},
     "output_type": "execute_result"
    }
   ],
   "source": [
    "a[-6]"
   ]
  },
  {
   "cell_type": "code",
   "execution_count": null,
   "id": "d7c25112",
   "metadata": {},
   "outputs": [],
   "source": [
    "a[-1:-6] # yha kush ni print ho ra ku k english left to right parhi jati hai "
   ]
  },
  {
   "cell_type": "code",
   "execution_count": 25,
   "id": "1304f5a4",
   "metadata": {},
   "outputs": [
    {
     "data": {
      "text/plain": [
       "'Pakor'"
      ]
     },
     "execution_count": 25,
     "metadata": {},
     "output_type": "execute_result"
    }
   ],
   "source": [
    "a[-6:-1] # jb hm -1 enter krtay hai to a ata hai lakin jb hm -6:-1 enter krtay to a ni ra ku k last digit is exclusive"
   ]
  },
  {
   "cell_type": "code",
   "execution_count": 27,
   "id": "dac9e814",
   "metadata": {},
   "outputs": [
    {
     "data": {
      "text/plain": [
       "''"
      ]
     },
     "execution_count": 27,
     "metadata": {},
     "output_type": "execute_result"
    }
   ],
   "source": [
    "a[-6:-0] # yha kush ni print ho ra ku k minus 0 ni hota "
   ]
  },
  {
   "cell_type": "code",
   "execution_count": 36,
   "id": "4d105144",
   "metadata": {},
   "outputs": [
    {
     "data": {
      "text/plain": [
       "'Pakora'"
      ]
     },
     "execution_count": 36,
     "metadata": {},
     "output_type": "execute_result"
    }
   ],
   "source": [
    "a[-6:13]"
   ]
  },
  {
   "cell_type": "code",
   "execution_count": 40,
   "id": "b8abaf91",
   "metadata": {},
   "outputs": [
    {
     "data": {
      "text/plain": [
       "'biryani'"
      ]
     },
     "execution_count": 40,
     "metadata": {},
     "output_type": "execute_result"
    }
   ],
   "source": [
    "food=\"biryani\"\n",
    "food"
   ]
  },
  {
   "cell_type": "markdown",
   "id": "317a91a7",
   "metadata": {},
   "source": [
    "## - Strings Method"
   ]
  },
  {
   "cell_type": "code",
   "execution_count": 41,
   "id": "5e8364f0",
   "metadata": {},
   "outputs": [
    {
     "data": {
      "text/plain": [
       "'biryani'"
      ]
     },
     "execution_count": 41,
     "metadata": {},
     "output_type": "execute_result"
    }
   ],
   "source": [
    "food"
   ]
  },
  {
   "cell_type": "code",
   "execution_count": 39,
   "id": "a844a879",
   "metadata": {},
   "outputs": [
    {
     "data": {
      "text/plain": [
       "7"
      ]
     },
     "execution_count": 39,
     "metadata": {},
     "output_type": "execute_result"
    }
   ],
   "source": [
    "len(food)"
   ]
  },
  {
   "cell_type": "markdown",
   "id": "1ad9a0ca",
   "metadata": {},
   "source": [
    "# capitalize ist letter"
   ]
  },
  {
   "cell_type": "code",
   "execution_count": 42,
   "id": "d8e2efdb",
   "metadata": {},
   "outputs": [
    {
     "data": {
      "text/plain": [
       "'Biryani'"
      ]
     },
     "execution_count": 42,
     "metadata": {},
     "output_type": "execute_result"
    }
   ],
   "source": [
    "food.capitalize() # is function sa ist letter capital ho jy ga"
   ]
  },
  {
   "cell_type": "markdown",
   "id": "33e56405",
   "metadata": {},
   "source": [
    "# all letters in upper case"
   ]
  },
  {
   "cell_type": "code",
   "execution_count": 43,
   "id": "25d0534a",
   "metadata": {},
   "outputs": [
    {
     "data": {
      "text/plain": [
       "'BIRYANI'"
      ]
     },
     "execution_count": 43,
     "metadata": {},
     "output_type": "execute_result"
    }
   ],
   "source": [
    "food.upper()"
   ]
  },
  {
   "cell_type": "markdown",
   "id": "37c8948c",
   "metadata": {},
   "source": [
    "# all letters in lower case"
   ]
  },
  {
   "cell_type": "code",
   "execution_count": 44,
   "id": "ad975eba",
   "metadata": {},
   "outputs": [
    {
     "data": {
      "text/plain": [
       "'biryani'"
      ]
     },
     "execution_count": 44,
     "metadata": {},
     "output_type": "execute_result"
    }
   ],
   "source": [
    "food.lower()"
   ]
  },
  {
   "cell_type": "markdown",
   "id": "d1ac1a2b",
   "metadata": {},
   "source": [
    "# to replace some letters"
   ]
  },
  {
   "cell_type": "code",
   "execution_count": 45,
   "id": "049677d1",
   "metadata": {},
   "outputs": [
    {
     "data": {
      "text/plain": [
       "'Shiryani'"
      ]
     },
     "execution_count": 45,
     "metadata": {},
     "output_type": "execute_result"
    }
   ],
   "source": [
    "food.replace(\"b\", \"Sh\")"
   ]
  },
  {
   "cell_type": "markdown",
   "id": "c1b42061",
   "metadata": {},
   "source": [
    "# counting a specific alphabet in a string"
   ]
  },
  {
   "cell_type": "code",
   "execution_count": 46,
   "id": "ff6ee19e",
   "metadata": {},
   "outputs": [
    {
     "data": {
      "text/plain": [
       "' baba_aamar with dr aamar tufail'"
      ]
     },
     "execution_count": 46,
     "metadata": {},
     "output_type": "execute_result"
    }
   ],
   "source": [
    "name= \" baba_aamar with dr aamar tufail\"\n",
    "name"
   ]
  },
  {
   "cell_type": "code",
   "execution_count": 47,
   "id": "431de14c",
   "metadata": {},
   "outputs": [
    {
     "data": {
      "text/plain": [
       "9"
      ]
     },
     "execution_count": 47,
     "metadata": {},
     "output_type": "execute_result"
    }
   ],
   "source": [
    "name.count(\"a\")"
   ]
  },
  {
   "cell_type": "code",
   "execution_count": 48,
   "id": "6d4a82a0",
   "metadata": {},
   "outputs": [
    {
     "data": {
      "text/plain": [
       "2"
      ]
     },
     "execution_count": 48,
     "metadata": {},
     "output_type": "execute_result"
    }
   ],
   "source": [
    "name.count(\"m\")"
   ]
  },
  {
   "cell_type": "markdown",
   "id": "deb81e9e",
   "metadata": {},
   "source": [
    "### - Finding an index number in a large string"
   ]
  },
  {
   "cell_type": "code",
   "execution_count": 49,
   "id": "4bbaa418",
   "metadata": {},
   "outputs": [
    {
     "data": {
      "text/plain": [
       "' baba_aamar with dr aamar tufail'"
      ]
     },
     "execution_count": 49,
     "metadata": {},
     "output_type": "execute_result"
    }
   ],
   "source": [
    "name= \" baba_aamar with dr aamar tufail\"\n",
    "name"
   ]
  },
  {
   "cell_type": "code",
   "execution_count": 52,
   "id": "1919408f",
   "metadata": {},
   "outputs": [
    {
     "data": {
      "text/plain": [
       "6"
      ]
     },
     "execution_count": 52,
     "metadata": {},
     "output_type": "execute_result"
    }
   ],
   "source": [
    "name.find(\"aa\")"
   ]
  },
  {
   "cell_type": "markdown",
   "id": "32b581b0",
   "metadata": {},
   "source": [
    "### - split a string "
   ]
  },
  {
   "cell_type": "code",
   "execution_count": 53,
   "id": "5b1851e1",
   "metadata": {},
   "outputs": [
    {
     "data": {
      "text/plain": [
       "' i love samosa, pakora, biryani, raita and salad'"
      ]
     },
     "execution_count": 53,
     "metadata": {},
     "output_type": "execute_result"
    }
   ],
   "source": [
    "food=\" i love samosa, pakora, biryani, raita and salad\"\n",
    "food"
   ]
  },
  {
   "cell_type": "code",
   "execution_count": 56,
   "id": "5bfd87cd",
   "metadata": {},
   "outputs": [
    {
     "data": {
      "text/plain": [
       "[' i love samosa', ' pakora', ' biryani', ' raita and salad']"
      ]
     },
     "execution_count": 56,
     "metadata": {},
     "output_type": "execute_result"
    }
   ],
   "source": [
    "food.split(\",\")"
   ]
  },
  {
   "cell_type": "markdown",
   "id": "fc9234f0",
   "metadata": {},
   "source": [
    "# Basic Data structure in python\n",
    "1- Tuple\n",
    "\n",
    "2- List \n",
    "\n",
    "3- Dictionaries\n",
    "\n",
    "4- Set"
   ]
  },
  {
   "cell_type": "markdown",
   "id": "df796712",
   "metadata": {},
   "source": [
    "## 1 - Tuple\n",
    "- ordered collection of elements\n",
    "- enclosed in round braces\n",
    "- different kind of elements can be stored\n",
    "- once elements are stored you cannot change them or unmutateable"
   ]
  },
  {
   "cell_type": "code",
   "execution_count": 58,
   "id": "8b674be4",
   "metadata": {},
   "outputs": [
    {
     "data": {
      "text/plain": [
       "(1, 'Python', True, 2.5)"
      ]
     },
     "execution_count": 58,
     "metadata": {},
     "output_type": "execute_result"
    }
   ],
   "source": [
    "tup1=(1, \"Python\" , True, 2.5)\n",
    "tup1"
   ]
  },
  {
   "cell_type": "markdown",
   "id": "8621b91f",
   "metadata": {},
   "source": [
    "# type of a tuple"
   ]
  },
  {
   "cell_type": "code",
   "execution_count": 59,
   "id": "eb43c708",
   "metadata": {},
   "outputs": [
    {
     "data": {
      "text/plain": [
       "tuple"
      ]
     },
     "execution_count": 59,
     "metadata": {},
     "output_type": "execute_result"
    }
   ],
   "source": [
    "type(tup1)"
   ]
  },
  {
   "cell_type": "markdown",
   "id": "2471d4c5",
   "metadata": {},
   "source": [
    "### indexing in tuple"
   ]
  },
  {
   "cell_type": "code",
   "execution_count": 62,
   "id": "10c34a1e",
   "metadata": {},
   "outputs": [
    {
     "data": {
      "text/plain": [
       "'Python'"
      ]
     },
     "execution_count": 62,
     "metadata": {},
     "output_type": "execute_result"
    }
   ],
   "source": [
    "tup1[1]"
   ]
  },
  {
   "cell_type": "markdown",
   "id": "f84fc2d6",
   "metadata": {},
   "source": [
    "# Last element is exclusive"
   ]
  },
  {
   "cell_type": "code",
   "execution_count": 65,
   "id": "a18b0be6",
   "metadata": {},
   "outputs": [
    {
     "data": {
      "text/plain": [
       "(1, 'Python', True)"
      ]
     },
     "execution_count": 65,
     "metadata": {},
     "output_type": "execute_result"
    }
   ],
   "source": [
    "tup1[0:3]"
   ]
  },
  {
   "cell_type": "markdown",
   "id": "51ef85ba",
   "metadata": {},
   "source": [
    "# count of elements in tuple"
   ]
  },
  {
   "cell_type": "code",
   "execution_count": 66,
   "id": "8c775482",
   "metadata": {},
   "outputs": [
    {
     "data": {
      "text/plain": [
       "4"
      ]
     },
     "execution_count": 66,
     "metadata": {},
     "output_type": "execute_result"
    }
   ],
   "source": [
    "len(tup1)"
   ]
  },
  {
   "cell_type": "markdown",
   "id": "396da0f1",
   "metadata": {},
   "source": [
    "# To add two tuple "
   ]
  },
  {
   "cell_type": "code",
   "execution_count": 68,
   "id": "44dd96ca",
   "metadata": {},
   "outputs": [
    {
     "data": {
      "text/plain": [
       "(2, 'baba aamar', 3.5, False)"
      ]
     },
     "execution_count": 68,
     "metadata": {},
     "output_type": "execute_result"
    }
   ],
   "source": [
    "tup2= (2, \"baba aamar\", 3.5, False)\n",
    "tup2"
   ]
  },
  {
   "cell_type": "code",
   "execution_count": 28,
   "id": "1aa05532",
   "metadata": {},
   "outputs": [
    {
     "ename": "NameError",
     "evalue": "name 'tup1' is not defined",
     "output_type": "error",
     "traceback": [
      "\u001b[1;31m---------------------------------------------------------------------------\u001b[0m",
      "\u001b[1;31mNameError\u001b[0m                                 Traceback (most recent call last)",
      "\u001b[1;32m~\\AppData\\Local\\Temp/ipykernel_2208/4156187156.py\u001b[0m in \u001b[0;36m<module>\u001b[1;34m\u001b[0m\n\u001b[0;32m      1\u001b[0m \u001b[1;31m# concatenate\u001b[0m\u001b[1;33m\u001b[0m\u001b[1;33m\u001b[0m\u001b[0m\n\u001b[1;32m----> 2\u001b[1;33m \u001b[0mtup1\u001b[0m \u001b[1;33m+\u001b[0m \u001b[0mtup2\u001b[0m\u001b[1;33m\u001b[0m\u001b[1;33m\u001b[0m\u001b[0m\n\u001b[0m",
      "\u001b[1;31mNameError\u001b[0m: name 'tup1' is not defined"
     ]
    }
   ],
   "source": [
    "# concatenate\n",
    "tup1 + tup2"
   ]
  },
  {
   "cell_type": "markdown",
   "id": "9b7b9b47",
   "metadata": {},
   "source": [
    "# 2 dafa kisi tup ko write k liay\n"
   ]
  },
  {
   "cell_type": "code",
   "execution_count": 70,
   "id": "982f869a",
   "metadata": {},
   "outputs": [
    {
     "data": {
      "text/plain": [
       "(1, 'Python', True, 2.5, 1, 'Python', True, 2.5, 2, 'baba aamar', 3.5, False)"
      ]
     },
     "execution_count": 70,
     "metadata": {},
     "output_type": "execute_result"
    }
   ],
   "source": [
    "# concatenat + repeat\n",
    "tup1*2 + tup2"
   ]
  },
  {
   "cell_type": "code",
   "execution_count": 72,
   "id": "2acd37d7",
   "metadata": {},
   "outputs": [
    {
     "data": {
      "text/plain": [
       "(20, 30, 40, 50, 85)"
      ]
     },
     "execution_count": 72,
     "metadata": {},
     "output_type": "execute_result"
    }
   ],
   "source": [
    "tup3= (20, 30, 40, 50, 85)\n",
    "tup3"
   ]
  },
  {
   "cell_type": "markdown",
   "id": "1bb23cf4",
   "metadata": {},
   "source": [
    "# to check the min and max value in tuple"
   ]
  },
  {
   "cell_type": "code",
   "execution_count": 73,
   "id": "0ab74d62",
   "metadata": {},
   "outputs": [
    {
     "data": {
      "text/plain": [
       "20"
      ]
     },
     "execution_count": 73,
     "metadata": {},
     "output_type": "execute_result"
    }
   ],
   "source": [
    "min(tup3)"
   ]
  },
  {
   "cell_type": "code",
   "execution_count": 74,
   "id": "beea2a99",
   "metadata": {},
   "outputs": [
    {
     "data": {
      "text/plain": [
       "85"
      ]
     },
     "execution_count": 74,
     "metadata": {},
     "output_type": "execute_result"
    }
   ],
   "source": [
    "max(tup3)"
   ]
  },
  {
   "cell_type": "markdown",
   "id": "8053b738",
   "metadata": {},
   "source": [
    "*in tupl you cannot replace the value*"
   ]
  },
  {
   "cell_type": "code",
   "execution_count": 75,
   "id": "9a0a8eee",
   "metadata": {
    "scrolled": true
   },
   "outputs": [
    {
     "data": {
      "text/plain": [
       "(20, 30, 40, 50, 85, 20, 30, 40, 50, 85)"
      ]
     },
     "execution_count": 75,
     "metadata": {},
     "output_type": "execute_result"
    }
   ],
   "source": [
    "tup3*2"
   ]
  },
  {
   "cell_type": "code",
   "execution_count": 25,
   "id": "08b5b5f2",
   "metadata": {},
   "outputs": [
    {
     "data": {
      "text/plain": [
       "3"
      ]
     },
     "execution_count": 25,
     "metadata": {},
     "output_type": "execute_result"
    }
   ],
   "source": [
    "tup3= (20, 30,40,  40, 50,40, 85)\n",
    "x= tup3.count(40)   #Return the number of times the value 5 appears in the tuple:\n",
    "x"
   ]
  },
  {
   "cell_type": "code",
   "execution_count": 27,
   "id": "6fe07fd0",
   "metadata": {},
   "outputs": [
    {
     "data": {
      "text/plain": [
       "4"
      ]
     },
     "execution_count": 27,
     "metadata": {},
     "output_type": "execute_result"
    }
   ],
   "source": [
    "tup3= (20, 30,8, 7,40,8, 7,  40, 50,40, 85)\n",
    "x= tup3.index(40)\n",
    "x"
   ]
  },
  {
   "cell_type": "code",
   "execution_count": null,
   "id": "9fa8e57f",
   "metadata": {},
   "outputs": [],
   "source": []
  },
  {
   "cell_type": "code",
   "execution_count": null,
   "id": "b9154710",
   "metadata": {},
   "outputs": [],
   "source": []
  },
  {
   "cell_type": "markdown",
   "id": "18b0a74b",
   "metadata": {},
   "source": [
    "---"
   ]
  },
  {
   "cell_type": "markdown",
   "id": "63523995",
   "metadata": {},
   "source": [
    "## 2 - Lists\n",
    "- ordered collection of elements\n",
    "\n",
    "- enclosed in [] brackets \n",
    "\n",
    "- mutateable, you can change value\n"
   ]
  },
  {
   "cell_type": "code",
   "execution_count": 116,
   "id": "a304e538",
   "metadata": {},
   "outputs": [
    {
     "data": {
      "text/plain": [
       "[2, ' baba aamar', False]"
      ]
     },
     "execution_count": 116,
     "metadata": {},
     "output_type": "execute_result"
    }
   ],
   "source": [
    "list1=[2,\" baba aamar\", False]\n",
    "list1"
   ]
  },
  {
   "cell_type": "code",
   "execution_count": 84,
   "id": "6459c100",
   "metadata": {},
   "outputs": [
    {
     "data": {
      "text/plain": [
       "list"
      ]
     },
     "execution_count": 84,
     "metadata": {},
     "output_type": "execute_result"
    }
   ],
   "source": [
    "type(list1)"
   ]
  },
  {
   "cell_type": "code",
   "execution_count": 85,
   "id": "4c8d4018",
   "metadata": {},
   "outputs": [
    {
     "data": {
      "text/plain": [
       "3"
      ]
     },
     "execution_count": 85,
     "metadata": {},
     "output_type": "execute_result"
    }
   ],
   "source": [
    "len(list1)"
   ]
  },
  {
   "cell_type": "code",
   "execution_count": 86,
   "id": "3dec2e96",
   "metadata": {},
   "outputs": [
    {
     "data": {
      "text/plain": [
       "False"
      ]
     },
     "execution_count": 86,
     "metadata": {},
     "output_type": "execute_result"
    }
   ],
   "source": [
    "list1[2]"
   ]
  },
  {
   "cell_type": "code",
   "execution_count": 89,
   "id": "ad686b8a",
   "metadata": {},
   "outputs": [
    {
     "data": {
      "text/plain": [
       "[3, 5, 'aamar', ' codanics', 478, 532, False]"
      ]
     },
     "execution_count": 89,
     "metadata": {},
     "output_type": "execute_result"
    }
   ],
   "source": [
    "list2= [3, 5, \"aamar\" , \" codanics\", 478, 532,False]\n",
    "list2"
   ]
  },
  {
   "cell_type": "code",
   "execution_count": 90,
   "id": "d589f111",
   "metadata": {},
   "outputs": [
    {
     "data": {
      "text/plain": [
       "[2, ' baba aamar', False, 3, 5, 'aamar', ' codanics', 478, 532, False]"
      ]
     },
     "execution_count": 90,
     "metadata": {},
     "output_type": "execute_result"
    }
   ],
   "source": [
    "list1+list2"
   ]
  },
  {
   "cell_type": "code",
   "execution_count": 91,
   "id": "ba6d6f65",
   "metadata": {},
   "outputs": [
    {
     "data": {
      "text/plain": [
       "[3,\n",
       " 5,\n",
       " 'aamar',\n",
       " ' codanics',\n",
       " 478,\n",
       " 532,\n",
       " False,\n",
       " 3,\n",
       " 5,\n",
       " 'aamar',\n",
       " ' codanics',\n",
       " 478,\n",
       " 532,\n",
       " False]"
      ]
     },
     "execution_count": 91,
     "metadata": {},
     "output_type": "execute_result"
    }
   ],
   "source": [
    "list2*2"
   ]
  },
  {
   "cell_type": "code",
   "execution_count": 96,
   "id": "4eaf11e7",
   "metadata": {},
   "outputs": [
    {
     "data": {
      "text/plain": [
       "[2, ' baba aamar', False]"
      ]
     },
     "execution_count": 96,
     "metadata": {},
     "output_type": "execute_result"
    }
   ],
   "source": [
    "list1.reverse()\n",
    "list1"
   ]
  },
  {
   "cell_type": "code",
   "execution_count": 104,
   "id": "d678076c",
   "metadata": {},
   "outputs": [
    {
     "data": {
      "text/plain": [
       "[2,\n",
       " ' baba aamar',\n",
       " False,\n",
       " 'codanics you tube channel',\n",
       " 'codanics you tube channel',\n",
       " 'codanics you tube channel',\n",
       " 'codanics you tube channel',\n",
       " 'codanics you tube channel',\n",
       " 'codanics you tube channel']"
      ]
     },
     "execution_count": 104,
     "metadata": {},
     "output_type": "execute_result"
    }
   ],
   "source": [
    "list1.append(\"codanics you tube channel\")\n",
    "list1"
   ]
  },
  {
   "cell_type": "code",
   "execution_count": 106,
   "id": "859117a8",
   "metadata": {},
   "outputs": [
    {
     "data": {
      "text/plain": [
       "[3,\n",
       " 5,\n",
       " 'aamar',\n",
       " ' codanics',\n",
       " 478,\n",
       " 532,\n",
       " False,\n",
       " 'we are pakistani, orange',\n",
       " 'we are pakistani, orange']"
      ]
     },
     "execution_count": 106,
     "metadata": {},
     "output_type": "execute_result"
    }
   ],
   "source": [
    "list2.append(\"we are pakistani, orange\")\n",
    "list2"
   ]
  },
  {
   "cell_type": "code",
   "execution_count": 110,
   "id": "11cf3090",
   "metadata": {},
   "outputs": [
    {
     "data": {
      "text/plain": [
       "['wasim', 'ali', 'haider', ('good', 'better')]"
      ]
     },
     "execution_count": 110,
     "metadata": {},
     "output_type": "execute_result"
    }
   ],
   "source": [
    "a=[\"wasim\",\"ali\",\"haider\"]\n",
    "b= (\"good\",\"better\")\n",
    "a.append(b)\n",
    "a"
   ]
  },
  {
   "cell_type": "code",
   "execution_count": 112,
   "id": "33675e32",
   "metadata": {},
   "outputs": [
    {
     "data": {
      "text/plain": [
       "[]"
      ]
     },
     "execution_count": 112,
     "metadata": {},
     "output_type": "execute_result"
    }
   ],
   "source": [
    "list1.clear()   # remove all the elements from the list\n",
    "list1"
   ]
  },
  {
   "cell_type": "markdown",
   "id": "f9656fa3",
   "metadata": {},
   "source": [
    "# copy return a copy of the list"
   ]
  },
  {
   "cell_type": "code",
   "execution_count": 120,
   "id": "6b528d1b",
   "metadata": {},
   "outputs": [],
   "source": [
    "x=list1.copy()"
   ]
  },
  {
   "cell_type": "code",
   "execution_count": 124,
   "id": "d7f6108e",
   "metadata": {},
   "outputs": [
    {
     "data": {
      "text/plain": [
       "[2, 5, 'wasim', True]"
      ]
     },
     "execution_count": 124,
     "metadata": {},
     "output_type": "execute_result"
    }
   ],
   "source": [
    "food=[2, 5, \"wasim\", True]\n",
    "food.copy()\n",
    "food"
   ]
  },
  {
   "cell_type": "code",
   "execution_count": 123,
   "id": "201b939f",
   "metadata": {},
   "outputs": [
    {
     "data": {
      "text/plain": [
       "[2, ' baba aamar', False, 'wasim']"
      ]
     },
     "execution_count": 123,
     "metadata": {},
     "output_type": "execute_result"
    }
   ],
   "source": [
    "list1.append(\"wasim\")\n",
    "list1"
   ]
  },
  {
   "cell_type": "code",
   "execution_count": 129,
   "id": "d302111e",
   "metadata": {},
   "outputs": [
    {
     "data": {
      "text/plain": [
       "[2, 5, 'wasim', True, 'foed', 'bmw', 'suzuki']"
      ]
     },
     "execution_count": 129,
     "metadata": {},
     "output_type": "execute_result"
    }
   ],
   "source": [
    "food=[2, 5, \"wasim\", True]\n",
    "cars= ['foed', 'bmw','suzuki']\n",
    "food.extend(cars)\n",
    "food"
   ]
  },
  {
   "cell_type": "code",
   "execution_count": 130,
   "id": "f4ab4923",
   "metadata": {},
   "outputs": [
    {
     "data": {
      "text/plain": [
       "[2, ' baba aamar', False, 'wasim']"
      ]
     },
     "execution_count": 130,
     "metadata": {},
     "output_type": "execute_result"
    }
   ],
   "source": [
    "x=list1.copy()\n",
    "x"
   ]
  },
  {
   "cell_type": "code",
   "execution_count": 136,
   "id": "dc743a1b",
   "metadata": {},
   "outputs": [
    {
     "data": {
      "text/plain": [
       "2"
      ]
     },
     "execution_count": 136,
     "metadata": {},
     "output_type": "execute_result"
    }
   ],
   "source": [
    "food=[2, 5, \"wasim\", True]\n",
    "x=food.index(\"wasim\")\n",
    "x"
   ]
  },
  {
   "cell_type": "code",
   "execution_count": 143,
   "id": "2ab7609f",
   "metadata": {},
   "outputs": [
    {
     "data": {
      "text/plain": [
       "[2, 5, ' apple', 'wasim', True, 'baba aamar']"
      ]
     },
     "execution_count": 143,
     "metadata": {},
     "output_type": "execute_result"
    }
   ],
   "source": [
    "food=[2, 5, \"wasim\", True, \"baba aamar\"]\n",
    "food.insert(2, \" apple\")\n",
    "food\n"
   ]
  },
  {
   "cell_type": "code",
   "execution_count": 144,
   "id": "fd19d09c",
   "metadata": {},
   "outputs": [
    {
     "data": {
      "text/plain": [
       "[2, 'wasim', True]"
      ]
     },
     "execution_count": 144,
     "metadata": {},
     "output_type": "execute_result"
    }
   ],
   "source": [
    "food=[2, 5, \"wasim\", True]\n",
    "food.pop(1)\n",
    "food"
   ]
  },
  {
   "cell_type": "code",
   "execution_count": 145,
   "id": "0b23e753",
   "metadata": {},
   "outputs": [
    {
     "data": {
      "text/plain": [
       "[2, 5, True]"
      ]
     },
     "execution_count": 145,
     "metadata": {},
     "output_type": "execute_result"
    }
   ],
   "source": [
    "food=[2, 5, \"wasim\", True]\n",
    "food.remove(\"wasim\")\n",
    "food"
   ]
  },
  {
   "cell_type": "code",
   "execution_count": 146,
   "id": "6e375936",
   "metadata": {},
   "outputs": [
    {
     "data": {
      "text/plain": [
       "[True, 'wasim', 5, 2]"
      ]
     },
     "execution_count": 146,
     "metadata": {},
     "output_type": "execute_result"
    }
   ],
   "source": [
    "food=[2, 5, \"wasim\", True]\n",
    "food.reverse()\n",
    "food"
   ]
  },
  {
   "cell_type": "code",
   "execution_count": 150,
   "id": "4c6059a9",
   "metadata": {},
   "outputs": [
    {
     "data": {
      "text/plain": [
       "['ali', 'haider', 'mohsin', 'wasim']"
      ]
     },
     "execution_count": 150,
     "metadata": {},
     "output_type": "execute_result"
    }
   ],
   "source": [
    "food=[\"wasim\", \"haider\", \"ali\", \"mohsin\"]\n",
    "food.sort()\n",
    "food"
   ]
  },
  {
   "cell_type": "code",
   "execution_count": 152,
   "id": "df2be774",
   "metadata": {},
   "outputs": [
    {
     "data": {
      "text/plain": [
       "7"
      ]
     },
     "execution_count": 152,
     "metadata": {},
     "output_type": "execute_result"
    }
   ],
   "source": [
    "list3= [20, 30, 35 , 38, 40, 12, 15]\n",
    "len(list3)"
   ]
  },
  {
   "cell_type": "code",
   "execution_count": 153,
   "id": "35df7468",
   "metadata": {},
   "outputs": [
    {
     "data": {
      "text/plain": [
       "[12, 15, 20, 30, 35, 38, 40]"
      ]
     },
     "execution_count": 153,
     "metadata": {},
     "output_type": "execute_result"
    }
   ],
   "source": [
    "list3.sort()\n",
    "list3"
   ]
  },
  {
   "cell_type": "code",
   "execution_count": 156,
   "id": "6b2ea264",
   "metadata": {},
   "outputs": [
    {
     "data": {
      "text/plain": [
       "[12,\n",
       " 15,\n",
       " 20,\n",
       " 30,\n",
       " 35,\n",
       " 38,\n",
       " 40,\n",
       " 12,\n",
       " 15,\n",
       " 20,\n",
       " 30,\n",
       " 35,\n",
       " 38,\n",
       " 40,\n",
       " 12,\n",
       " 15,\n",
       " 20,\n",
       " 30,\n",
       " 35,\n",
       " 38,\n",
       " 40]"
      ]
     },
     "execution_count": 156,
     "metadata": {},
     "output_type": "execute_result"
    }
   ],
   "source": [
    "list3*3"
   ]
  },
  {
   "cell_type": "code",
   "execution_count": 157,
   "id": "b84752fb",
   "metadata": {},
   "outputs": [
    {
     "data": {
      "text/plain": [
       "['ali', 'haider', 'mohsin', 'wasim', 12, 15, 20, 30, 35, 38, 40]"
      ]
     },
     "execution_count": 157,
     "metadata": {},
     "output_type": "execute_result"
    }
   ],
   "source": [
    "lists= food+list3\n",
    "lists"
   ]
  },
  {
   "cell_type": "markdown",
   "id": "ee3bd46b",
   "metadata": {},
   "source": [
    "## Dictionaries  , it is a type of data set\n",
    "- an ordered collection of elements\n",
    "- key and value\n",
    "- curly braces or brackets{}\n",
    "- mutateable, change the values\n"
   ]
  },
  {
   "cell_type": "markdown",
   "id": "74399442",
   "metadata": {},
   "source": [
    "# Food and their prices"
   ]
  },
  {
   "cell_type": "code",
   "execution_count": 158,
   "id": "5223f35e",
   "metadata": {},
   "outputs": [
    {
     "data": {
      "text/plain": [
       "dict"
      ]
     },
     "execution_count": 158,
     "metadata": {},
     "output_type": "execute_result"
    }
   ],
   "source": [
    "food1={\"Samosa\":30, \" Pakora\":35,\"raita\":10,\"salad\":15,\"chicken roll\":50, \"paratha\":80}\n",
    "type(food1)\n"
   ]
  },
  {
   "cell_type": "markdown",
   "id": "529a6e39",
   "metadata": {},
   "source": [
    "# to extract data"
   ]
  },
  {
   "cell_type": "code",
   "execution_count": 159,
   "id": "58f61c56",
   "metadata": {},
   "outputs": [
    {
     "data": {
      "text/plain": [
       "dict_keys(['Samosa', ' Pakora', 'raita', 'salad', 'chicken roll', 'paratha'])"
      ]
     },
     "execution_count": 159,
     "metadata": {},
     "output_type": "execute_result"
    }
   ],
   "source": [
    "food1.keys()"
   ]
  },
  {
   "cell_type": "code",
   "execution_count": 160,
   "id": "292e9fac",
   "metadata": {},
   "outputs": [
    {
     "data": {
      "text/plain": [
       "dict_keys(['Samosa', ' Pakora', 'raita', 'salad', 'chicken roll', 'paratha'])"
      ]
     },
     "execution_count": 160,
     "metadata": {},
     "output_type": "execute_result"
    }
   ],
   "source": [
    "#or\n",
    "keys1= food1.keys()\n",
    "keys1"
   ]
  },
  {
   "cell_type": "code",
   "execution_count": 161,
   "id": "f9c24d99",
   "metadata": {},
   "outputs": [
    {
     "data": {
      "text/plain": [
       "dict_values([30, 35, 10, 15, 50, 80])"
      ]
     },
     "execution_count": 161,
     "metadata": {},
     "output_type": "execute_result"
    }
   ],
   "source": [
    "food1.values()"
   ]
  },
  {
   "cell_type": "code",
   "execution_count": 165,
   "id": "a7f26953",
   "metadata": {},
   "outputs": [
    {
     "data": {
      "text/plain": [
       "{'Samosa': 30,\n",
       " ' Pakora': 35,\n",
       " 'raita': 10,\n",
       " 'salad': 15,\n",
       " 'chicken roll': 50,\n",
       " 'paratha': 80,\n",
       " 'daal': 25}"
      ]
     },
     "execution_count": 165,
     "metadata": {},
     "output_type": "execute_result"
    }
   ],
   "source": [
    "### adding new elements\n",
    "food1[\"daal\"]=25\n",
    "food1"
   ]
  },
  {
   "cell_type": "code",
   "execution_count": 166,
   "id": "9fcdbb93",
   "metadata": {},
   "outputs": [
    {
     "data": {
      "text/plain": [
       "{'dates': 50, 'juice': 25, 'sharbat': 10}"
      ]
     },
     "execution_count": 166,
     "metadata": {},
     "output_type": "execute_result"
    }
   ],
   "source": [
    "food2= {\"dates\":50, \"juice\":25,\"sharbat\":10}\n",
    "food2"
   ]
  },
  {
   "cell_type": "code",
   "execution_count": 167,
   "id": "fe6b0cea",
   "metadata": {},
   "outputs": [
    {
     "ename": "TypeError",
     "evalue": "unsupported operand type(s) for +: 'dict' and 'dict'",
     "output_type": "error",
     "traceback": [
      "\u001b[1;31m---------------------------------------------------------------------------\u001b[0m",
      "\u001b[1;31mTypeError\u001b[0m                                 Traceback (most recent call last)",
      "\u001b[1;32m~\\AppData\\Local\\Temp/ipykernel_6520/2248564011.py\u001b[0m in \u001b[0;36m<module>\u001b[1;34m\u001b[0m\n\u001b[1;32m----> 1\u001b[1;33m \u001b[0mfood1\u001b[0m\u001b[1;33m+\u001b[0m\u001b[0mfood2\u001b[0m\u001b[1;33m\u001b[0m\u001b[1;33m\u001b[0m\u001b[0m\n\u001b[0m",
      "\u001b[1;31mTypeError\u001b[0m: unsupported operand type(s) for +: 'dict' and 'dict'"
     ]
    }
   ],
   "source": [
    "# concatinate\n",
    "food1+food2   # is sa error a ra ha isk liy hm ko dictionary ko update krna paray ga"
   ]
  },
  {
   "cell_type": "code",
   "execution_count": 168,
   "id": "03bbc26b",
   "metadata": {},
   "outputs": [
    {
     "data": {
      "text/plain": [
       "{'Samosa': 30,\n",
       " ' Pakora': 35,\n",
       " 'raita': 10,\n",
       " 'salad': 15,\n",
       " 'chicken roll': 50,\n",
       " 'paratha': 80,\n",
       " 'daal': 25,\n",
       " 'dates': 50,\n",
       " 'juice': 25,\n",
       " 'sharbat': 10}"
      ]
     },
     "execution_count": 168,
     "metadata": {},
     "output_type": "execute_result"
    }
   ],
   "source": [
    "food1.update(food2)\n",
    "food1"
   ]
  },
  {
   "cell_type": "markdown",
   "id": "2112a943",
   "metadata": {},
   "source": [
    "---\n"
   ]
  },
  {
   "cell_type": "markdown",
   "id": "68530d7f",
   "metadata": {},
   "source": [
    "# Sets\n",
    "- an unnordered and unindexed\n",
    "- curly braces are used {}\n",
    "- no duplicate are allowed \n"
   ]
  },
  {
   "cell_type": "code",
   "execution_count": 169,
   "id": "dc769442",
   "metadata": {},
   "outputs": [
    {
     "data": {
      "text/plain": [
       "{1, 2.5, 5.9, 'aamar', 'faisalabad', 'wasim'}"
      ]
     },
     "execution_count": 169,
     "metadata": {},
     "output_type": "execute_result"
    }
   ],
   "source": [
    "s1= {1, 2.5, 5.9, \"aamar\", \"wasim\",\"faisalabad\", True} # sets ma bolean operator use ni hu ga nechay true ni aya output ma only integer, whole and strings\n",
    "s1"
   ]
  },
  {
   "cell_type": "markdown",
   "id": "5872186c",
   "metadata": {},
   "source": [
    "## 35 time  on youtube "
   ]
  },
  {
   "cell_type": "code",
   "execution_count": 181,
   "id": "4dbcc700",
   "metadata": {},
   "outputs": [
    {
     "data": {
      "text/plain": [
       "{1, 2.5, 5.9, 'aamar', 'faisalabad', 'younas'}"
      ]
     },
     "execution_count": 181,
     "metadata": {},
     "output_type": "execute_result"
    }
   ],
   "source": [
    "s1.add(\"younas\")\n",
    "s1\n"
   ]
  },
  {
   "cell_type": "code",
   "execution_count": 182,
   "id": "347cfbb9",
   "metadata": {},
   "outputs": [
    {
     "data": {
      "text/plain": [
       "{1, 2.5, 5.9, 'faisalabad', 'younas'}"
      ]
     },
     "execution_count": 182,
     "metadata": {},
     "output_type": "execute_result"
    }
   ],
   "source": [
    "s1.remove(\"aamar\")\n",
    "s1"
   ]
  },
  {
   "cell_type": "code",
   "execution_count": 187,
   "id": "e656a992",
   "metadata": {},
   "outputs": [
    {
     "data": {
      "text/plain": [
       "{1, 8, 9, 'ali', 'faisal', 'haider'}"
      ]
     },
     "execution_count": 187,
     "metadata": {},
     "output_type": "execute_result"
    }
   ],
   "source": [
    "s2={\"faisal\",\"ali\",\"haider\", 9, 8, 1}\n",
    "x=s2.copy()\n",
    "x\n"
   ]
  },
  {
   "cell_type": "code",
   "execution_count": 2,
   "id": "673199c0",
   "metadata": {},
   "outputs": [
    {
     "data": {
      "text/plain": [
       "{2.5, 5.9, 'aamar', 'faisalabad', 'wasim'}"
      ]
     },
     "execution_count": 2,
     "metadata": {},
     "output_type": "execute_result"
    }
   ],
   "source": [
    "s1= {2.5, 5.9, \"aamar\", \"wasim\",\"faisalabad\"}\n",
    "s2={\"faisal\",\"ali\",\"haider\", \"grapes\", \"jaman\", 9}\n",
    "x=s1.difference(s2)\n",
    "x"
   ]
  },
  {
   "cell_type": "code",
   "execution_count": 3,
   "id": "a3afa02e",
   "metadata": {},
   "outputs": [
    {
     "data": {
      "text/plain": [
       "{2.5, 5.9, 'aamar', 'faisalabad', 'wasim'}"
      ]
     },
     "execution_count": 3,
     "metadata": {},
     "output_type": "execute_result"
    }
   ],
   "source": [
    "s1= {2.5, 5.9, \"aamar\", \"wasim\",\"faisalabad\"}\n",
    "s2={\"faisal\",\"ali\",\"haider\", \"grapes\", \"jaman\", 9}\n",
    "s1.difference_update(s2)\n",
    "s1"
   ]
  },
  {
   "cell_type": "code",
   "execution_count": 4,
   "id": "b8b59d22",
   "metadata": {},
   "outputs": [
    {
     "data": {
      "text/plain": [
       "{2.5, 5.9, 'aamar', 'faisalabad'}"
      ]
     },
     "execution_count": 4,
     "metadata": {},
     "output_type": "execute_result"
    }
   ],
   "source": [
    "s1= {2.5, 5.9, \"aamar\", \"wasim\",\"faisalabad\"}\n",
    "s1.discard(\"wasim\")\n",
    "s1"
   ]
  },
  {
   "cell_type": "code",
   "execution_count": 6,
   "id": "88d155f8",
   "metadata": {},
   "outputs": [
    {
     "data": {
      "text/plain": [
       "{'jaman'}"
      ]
     },
     "execution_count": 6,
     "metadata": {},
     "output_type": "execute_result"
    }
   ],
   "source": [
    "s1= {2.5, 5.9, \"aamar\", \"jaman\",\"wasim\",\"faisalabad\"}\n",
    "s2={\"faisal\",\"ali\",\"haider\", \"grapes\", \"jaman\", 9}\n",
    "x=s1.intersection(s2)\n",
    "x"
   ]
  },
  {
   "cell_type": "code",
   "execution_count": 7,
   "id": "f9a7d805",
   "metadata": {},
   "outputs": [
    {
     "data": {
      "text/plain": [
       "{'grapes'}"
      ]
     },
     "execution_count": 7,
     "metadata": {},
     "output_type": "execute_result"
    }
   ],
   "source": [
    "x={\"apple\", \"grapes\", \"cherry\"}\n",
    "y= {\"guava\", \"falsa\", \"jaman\", \"grapes\"}\n",
    "x.intersection_update(y)\n",
    "x"
   ]
  },
  {
   "cell_type": "code",
   "execution_count": 11,
   "id": "67440a15",
   "metadata": {},
   "outputs": [
    {
     "data": {
      "text/plain": [
       "True"
      ]
     },
     "execution_count": 11,
     "metadata": {},
     "output_type": "execute_result"
    }
   ],
   "source": [
    "x={\"apple\", \"amrud\", \"cherry\"}\n",
    "y= {\"guava\", \"falsa\", \"jaman\", \"grapes\"} # agr donu set ma koi cheez same hai to ans false ay ga\n",
    "z= x.isdisjoint(y)\n",
    "z"
   ]
  },
  {
   "cell_type": "code",
   "execution_count": 14,
   "id": "63380ea8",
   "metadata": {},
   "outputs": [
    {
     "data": {
      "text/plain": [
       "True"
      ]
     },
     "execution_count": 14,
     "metadata": {},
     "output_type": "execute_result"
    }
   ],
   "source": [
    "x={\"apple\", \"grapes\", \"cherry\"}\n",
    "y= {\"guava\", \"falsa\",\"apple\", \"cherry\", \"jaman\", \"grapes\"}\n",
    "z=x.issubset(y)   #Return True if all items in set x are present in set y:\n",
    "z"
   ]
  },
  {
   "cell_type": "code",
   "execution_count": 15,
   "id": "7745cdb1",
   "metadata": {},
   "outputs": [
    {
     "data": {
      "text/plain": [
       "True"
      ]
     },
     "execution_count": 15,
     "metadata": {},
     "output_type": "execute_result"
    }
   ],
   "source": [
    "x= {\"guava\", \"falsa\",\"apple\", \"cherry\", \"jaman\", \"grapes\"}\n",
    "y={\"apple\", \"grapes\", \"cherry\"}\n",
    "\n",
    "z= x.issuperset(y)  #Return True if all items set y are present in set x:\n",
    "z"
   ]
  },
  {
   "cell_type": "code",
   "execution_count": 16,
   "id": "4aa86251",
   "metadata": {},
   "outputs": [
    {
     "data": {
      "text/plain": [
       "{'apple', 'cherry', 'falsa', 'grapes', 'jaman'}"
      ]
     },
     "execution_count": 16,
     "metadata": {},
     "output_type": "execute_result"
    }
   ],
   "source": [
    "x= {\"guava\", \"falsa\",\"apple\", \"cherry\", \"jaman\", \"grapes\"}\n",
    "x.pop()  #Remove a random item from the set:\n",
    "x"
   ]
  },
  {
   "cell_type": "code",
   "execution_count": 17,
   "id": "4935631a",
   "metadata": {},
   "outputs": [
    {
     "data": {
      "text/plain": [
       "{'apple', 'cherry', 'grapes', 'guava', 'jaman'}"
      ]
     },
     "execution_count": 17,
     "metadata": {},
     "output_type": "execute_result"
    }
   ],
   "source": [
    "x= {\"guava\", \"falsa\",\"apple\", \"cherry\", \"jaman\", \"grapes\"}\n",
    "x.remove(\"falsa\")  #Remove \"falsa\" from the set:\n",
    "x"
   ]
  },
  {
   "cell_type": "code",
   "execution_count": 19,
   "id": "ae5f67a6",
   "metadata": {},
   "outputs": [
    {
     "data": {
      "text/plain": [
       "{'apple', 'falsa', 'guava', 'jaman'}"
      ]
     },
     "execution_count": 19,
     "metadata": {},
     "output_type": "execute_result"
    }
   ],
   "source": [
    "x= {\"guava\", \"falsa\", \"cherry\", \"jaman\",\"grapes\" }\n",
    "y={\"apple\", \"grapes\", \"cherry\"}\n",
    "z= x.symmetric_difference(y)   #Return a set that contains all items from both sets, except items that are present in both sets:\n",
    "z"
   ]
  },
  {
   "cell_type": "code",
   "execution_count": 20,
   "id": "396a28c5",
   "metadata": {},
   "outputs": [
    {
     "data": {
      "text/plain": [
       "{'apple', 'cherry', 'falsa', 'guava', 'jaman'}"
      ]
     },
     "execution_count": 20,
     "metadata": {},
     "output_type": "execute_result"
    }
   ],
   "source": [
    "x={\"apple\", \"grapes\", \"cherry\"}\n",
    "y= {\"guava\", \"falsa\", \"jaman\", \"grapes\"}\n",
    "x.symmetric_difference_update(y)   #Remove the items that are present in both sets, AND insert the items that is not present in both sets:\n",
    "x"
   ]
  },
  {
   "cell_type": "code",
   "execution_count": 21,
   "id": "210f21ff",
   "metadata": {},
   "outputs": [
    {
     "data": {
      "text/plain": [
       "{'apple', 'cherry', 'falsa', 'grapes', 'guava', 'jaman'}"
      ]
     },
     "execution_count": 21,
     "metadata": {},
     "output_type": "execute_result"
    }
   ],
   "source": [
    "x= {\"guava\", \"falsa\", \"cherry\", \"jaman\",\"grapes\" }\n",
    "y={\"apple\", \"grapes\", \"cherry\"}\n",
    "z=x.union(y)  #Return a set that contains all items from both sets, duplicates are excluded:\n",
    "z"
   ]
  },
  {
   "cell_type": "code",
   "execution_count": 22,
   "id": "6c1a08ce",
   "metadata": {},
   "outputs": [
    {
     "data": {
      "text/plain": [
       "{'apple', 'cherry', 'falsa', 'grapes', 'guava', 'jaman'}"
      ]
     },
     "execution_count": 22,
     "metadata": {},
     "output_type": "execute_result"
    }
   ],
   "source": [
    "x= {\"guava\", \"falsa\", \"cherry\", \"jaman\",\"grapes\" }\n",
    "y={\"apple\", \"grapes\", \"cherry\"}\n",
    "x.update(y)   #Insert the items from set y into set x:\n",
    "x\n"
   ]
  }
 ],
 "metadata": {
  "kernelspec": {
   "display_name": "Python 3 (ipykernel)",
   "language": "python",
   "name": "python3"
  },
  "language_info": {
   "codemirror_mode": {
    "name": "ipython",
    "version": 3
   },
   "file_extension": ".py",
   "mimetype": "text/x-python",
   "name": "python",
   "nbconvert_exporter": "python",
   "pygments_lexer": "ipython3",
   "version": "3.9.7"
  }
 },
 "nbformat": 4,
 "nbformat_minor": 5
}
